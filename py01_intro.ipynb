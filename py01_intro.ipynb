{
  "nbformat": 4,
  "nbformat_minor": 0,
  "metadata": {
    "colab": {
      "provenance": [],
      "authorship_tag": "ABX9TyNWcAF9DkA6FdMCS17/sGaG",
      "include_colab_link": true
    },
    "kernelspec": {
      "name": "python3",
      "display_name": "Python 3"
    },
    "language_info": {
      "name": "python"
    }
  },
  "cells": [
    {
      "cell_type": "markdown",
      "metadata": {
        "id": "view-in-github",
        "colab_type": "text"
      },
      "source": [
        "<a href=\"https://colab.research.google.com/github/baesunyoung34/Python/blob/main/py01_intro.ipynb\" target=\"_parent\"><img src=\"https://colab.research.google.com/assets/colab-badge.svg\" alt=\"Open In Colab\"/></a>"
      ]
    },
    {
      "cell_type": "markdown",
      "source": [
        "# 파이썬 버전 확인"
      ],
      "metadata": {
        "id": "mDngpd1P1nba"
      }
    },
    {
      "cell_type": "code",
      "source": [
        "!python --version"
      ],
      "metadata": {
        "colab": {
          "base_uri": "https://localhost:8080/"
        },
        "id": "WqcgZ_eP1st-",
        "outputId": "66ee385e-a3bd-4a0f-8a93-0ccdd4505211"
      },
      "execution_count": 6,
      "outputs": [
        {
          "output_type": "stream",
          "name": "stdout",
          "text": [
            "Python 3.10.12\n"
          ]
        }
      ]
    },
    {
      "cell_type": "markdown",
      "source": [
        "코드 셀에서 명령창(command prompt)에서 실행하는 명령어를 작성하고 실행할 때는 !로 시작."
      ],
      "metadata": {
        "id": "aIl3fqSw2jd1"
      }
    },
    {
      "cell_type": "markdown",
      "source": [
        "# 파이썬 소개\n"
      ],
      "metadata": {
        "id": "KmO-Wo760sG-"
      }
    },
    {
      "cell_type": "code",
      "execution_count": 7,
      "metadata": {
        "colab": {
          "base_uri": "https://localhost:8080/"
        },
        "id": "Q9xz9ABtxzSq",
        "outputId": "9b19fe82-4cc7-4609-b3d1-0c7200b5808b"
      },
      "outputs": [
        {
          "output_type": "stream",
          "name": "stdout",
          "text": [
            "안녕하세요 pyton!\n"
          ]
        }
      ],
      "source": [
        "# inline comment(주석)\n",
        "print('안녕하세요 pyton!') #파이썬 문장은 세미콜론을 사용하지 않음."
      ]
    }
  ]
}