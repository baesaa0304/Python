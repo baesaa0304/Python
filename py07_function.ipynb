{
  "nbformat": 4,
  "nbformat_minor": 0,
  "metadata": {
    "colab": {
      "provenance": [],
      "authorship_tag": "ABX9TyPfeTr4jEpsJ4/uQz2qCIIU",
      "include_colab_link": true
    },
    "kernelspec": {
      "name": "python3",
      "display_name": "Python 3"
    },
    "language_info": {
      "name": "python"
    }
  },
  "cells": [
    {
      "cell_type": "markdown",
      "metadata": {
        "id": "view-in-github",
        "colab_type": "text"
      },
      "source": [
        "<a href=\"https://colab.research.google.com/github/baesunyoung34/Python/blob/main/py07_function.ipynb\" target=\"_parent\"><img src=\"https://colab.research.google.com/assets/colab-badge.svg\" alt=\"Open In Colab\"/></a>"
      ]
    },
    {
      "cell_type": "markdown",
      "source": [
        "# Fuction (함수)\n"
      ],
      "metadata": {
        "id": "SNXRO6ywFC9Q"
      }
    },
    {
      "cell_type": "markdown",
      "source": [
        "* fuction(함수) : 기능을 수행하는 코드 블록.\n",
        "* argument : 함수를 호출하는 곳에서 함수에게 전달하는 값.\n",
        "* parameter : argument를 저장하기 위해서 함수 선언부에서 선언하는 지역 변수.\n",
        "* return value : 함수가 기능의 수행 결과로 리턴하는 값.\n",
        "    * return value가 있는 함수\n",
        "    * return value가 없는 함수\n",
        "* 파이썬 함수 정의 방법:\n",
        "    ```\n",
        "    def function_name([param , ...])\n",
        "    [\"\"\" 문서화 주석 - 함수 기능 설명, 파라미터 설명, 리턴 값 설명''']\n",
        "        함수 기능 구현\n",
        "        [return 값]\n",
        "    \n",
        "    ```      \n",
        "* return value가 없는 경우에,\n",
        "    * return 문장을 생략\n",
        "    * return None 명시할 수도 있음."
      ],
      "metadata": {
        "id": "ikvK-5EmFHFd"
      }
    },
    {
      "cell_type": "code",
      "execution_count": null,
      "metadata": {
        "id": "HXES9BSbEysR"
      },
      "outputs": [],
      "source": [
        "def subtract(x, y):\n",
        "    \"\"\" 2개의 숫자 x, y를 전달받아서 x-y 결과를 리턴하는 함수.\n",
        "\n",
        "    \"\"\"\n",
        "    return x- y"
      ]
    },
    {
      "cell_type": "code",
      "source": [
        "result = subtract(1,2)\n",
        "result"
      ],
      "metadata": {
        "colab": {
          "base_uri": "https://localhost:8080/"
        },
        "id": "TuNeDgxHIQkz",
        "outputId": "4da50662-9db5-4421-a900-3917847b8e01"
      },
      "execution_count": null,
      "outputs": [
        {
          "output_type": "execute_result",
          "data": {
            "text/plain": [
              "-1"
            ]
          },
          "metadata": {},
          "execution_count": 5
        }
      ]
    },
    {
      "cell_type": "code",
      "source": [
        "def repeat_message(message, n):\n",
        "    \"\"\" 문자열(message)과 정수(n)을 전달받아서, message를 n번 출력하는 함수.\n",
        "    \"\"\"\n",
        "    for _ in range(n):\n",
        "        print(message)\n",
        "\n",
        "    return None # 생략함\n",
        "    # 리턴 값이 없으면 보통 return문을 생략하지만, return None으로 명시하기도 함."
      ],
      "metadata": {
        "id": "mFWE7tQFIngw"
      },
      "execution_count": null,
      "outputs": []
    },
    {
      "cell_type": "code",
      "source": [
        "repeat_message('안녕하세여' , 3)"
      ],
      "metadata": {
        "colab": {
          "base_uri": "https://localhost:8080/"
        },
        "id": "etFdVqlWJvu2",
        "outputId": "a11f6fe7-0238-43d4-b348-56c2dcd23f69"
      },
      "execution_count": null,
      "outputs": [
        {
          "output_type": "stream",
          "name": "stdout",
          "text": [
            "안녕하세여\n",
            "안녕하세여\n",
            "안녕하세여\n"
          ]
        }
      ]
    },
    {
      "cell_type": "markdown",
      "source": [
        "#Ex 1.\n",
        "* 함수 이름: make_list\n",
        "* 기능: start 이상 end 미만의 정수 난수 n개를 갖는 리스트를 반환하는 함수."
      ],
      "metadata": {
        "id": "WA50GXFfL2H4"
      }
    },
    {
      "cell_type": "code",
      "source": [
        "import random"
      ],
      "metadata": {
        "id": "ehlWGcJjMU8L"
      },
      "execution_count": 13,
      "outputs": []
    },
    {
      "cell_type": "code",
      "source": [
        "def make_list(start, end, n):\n",
        "    return[random.randrange(start , end) for _ in range(n)]"
      ],
      "metadata": {
        "id": "XDVKernSNZmr"
      },
      "execution_count": 47,
      "outputs": []
    },
    {
      "cell_type": "markdown",
      "source": [
        "#Ex 2.\n",
        "* 함수 이름: calc_sum\n",
        "* 기능: 숫자들의 리스트를 전달받아서, 리스트의 모든 원소들의 합을 리턴하는 함수."
      ],
      "metadata": {
        "id": "0KGrQfe0L6YU"
      }
    },
    {
      "cell_type": "code",
      "source": [
        "def calc_sum (list):\n",
        "    return sum(list)"
      ],
      "metadata": {
        "id": "9WBqHC5CNW7H"
      },
      "execution_count": 46,
      "outputs": []
    },
    {
      "cell_type": "markdown",
      "source": [
        "#Ex 3.\n",
        "* 함수 이름: calc_mean\n",
        "* 기능: 숫자들의 리스트를 전달받아서, 리스트의 원소들의 평균을 리턴하는 함수."
      ],
      "metadata": {
        "id": "91bXztVRMCr0"
      }
    },
    {
      "cell_type": "code",
      "source": [
        "def calc_mean(list):\n",
        "    return sum(list)/len(list)"
      ],
      "metadata": {
        "id": "fp02-PmcOTdt"
      },
      "execution_count": 45,
      "outputs": []
    },
    {
      "cell_type": "markdown",
      "source": [
        "#Ex 4.\n",
        "* 함수 이름: calc_var\n",
        "* 기능: 숫자들의 리스트를 전달받아서, 리스트의 원소들의 분산(variance)을 리턴하는 함수\n",
        "    * 분산 = (값 - 평균)**2 들의 평균"
      ],
      "metadata": {
        "id": "uc8IQO91MJb_"
      }
    },
    {
      "cell_type": "code",
      "source": [
        "def calc_var(list):\n",
        "    result = []\n",
        "    for x in list:\n",
        "        result.append((x - calc_mean(list)) ** 2)\n",
        "    return calc_mean(result)"
      ],
      "metadata": {
        "id": "YPMAajReO7Go"
      },
      "execution_count": 44,
      "outputs": []
    },
    {
      "cell_type": "code",
      "source": [
        "numbers = make_list(1, 100, 5)\n",
        "numbers\n",
        "calc_sum(numbers)\n",
        "calc_mean(numbers)\n",
        "calc_var(numbers)"
      ],
      "metadata": {
        "colab": {
          "base_uri": "https://localhost:8080/"
        },
        "id": "1H_Ko15KQsBI",
        "outputId": "3a1650ae-a884-4c8e-a8b2-b2a82a7008c8"
      },
      "execution_count": 54,
      "outputs": [
        {
          "output_type": "execute_result",
          "data": {
            "text/plain": [
              "371.76"
            ]
          },
          "metadata": {},
          "execution_count": 54
        }
      ]
    }
  ]
}