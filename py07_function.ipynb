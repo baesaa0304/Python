{
  "nbformat": 4,
  "nbformat_minor": 0,
  "metadata": {
    "colab": {
      "provenance": [],
      "authorship_tag": "ABX9TyOWPNMUWCgZ1rkesQ6ABgsr",
      "include_colab_link": true
    },
    "kernelspec": {
      "name": "python3",
      "display_name": "Python 3"
    },
    "language_info": {
      "name": "python"
    }
  },
  "cells": [
    {
      "cell_type": "markdown",
      "metadata": {
        "id": "view-in-github",
        "colab_type": "text"
      },
      "source": [
        "<a href=\"https://colab.research.google.com/github/baesunyoung34/Python/blob/main/py07_function.ipynb\" target=\"_parent\"><img src=\"https://colab.research.google.com/assets/colab-badge.svg\" alt=\"Open In Colab\"/></a>"
      ]
    },
    {
      "cell_type": "markdown",
      "source": [
        "# Fuction (함수)\n"
      ],
      "metadata": {
        "id": "SNXRO6ywFC9Q"
      }
    },
    {
      "cell_type": "markdown",
      "source": [
        "* fuction(함수) : 기능을 수행하는 코드 블록.\n",
        "* argument : 함수를 호출하는 곳에서 함수에게 전달하는 값.\n",
        "* parameter : argument를 저장하기 위해서 함수 선언부에서 선언하는 지역 변수.\n",
        "* return value : 함수가 기능의 수행 결과로 리턴하는 값.\n",
        "    * return value가 있는 함수\n",
        "    * return value가 없는 함수\n",
        "* 파이썬 함수 정의 방법:\n",
        "    ```\n",
        "    def function_name([param , ...])\n",
        "    [\"\"\" 문서화 주석 - 함수 기능 설명, 파라미터 설명, 리턴 값 설명''']\n",
        "        함수 기능 구현\n",
        "        [return 값]\n",
        "    \n",
        "    ```      \n",
        "* return value가 없는 경우에,\n",
        "    * return 문장을 생략\n",
        "    * return None 명시할 수도 있음."
      ],
      "metadata": {
        "id": "ikvK-5EmFHFd"
      }
    },
    {
      "cell_type": "code",
      "execution_count": 1,
      "metadata": {
        "id": "HXES9BSbEysR"
      },
      "outputs": [],
      "source": [
        "def subtract(x, y):\n",
        "    \"\"\" 2개의 숫자 x, y를 전달받아서 x-y 결과를 리턴하는 함수.\n",
        "\n",
        "    \"\"\"\n",
        "    return x- y"
      ]
    },
    {
      "cell_type": "code",
      "source": [
        "result = subtract(1,2)\n",
        "result"
      ],
      "metadata": {
        "colab": {
          "base_uri": "https://localhost:8080/"
        },
        "id": "TuNeDgxHIQkz",
        "outputId": "4da50662-9db5-4421-a900-3917847b8e01"
      },
      "execution_count": 5,
      "outputs": [
        {
          "output_type": "execute_result",
          "data": {
            "text/plain": [
              "-1"
            ]
          },
          "metadata": {},
          "execution_count": 5
        }
      ]
    },
    {
      "cell_type": "code",
      "source": [
        "def repeat_message(message, n):\n",
        "    \"\"\" 문자열(message)과 정수(n)을 전달받아서, message를 n번 출력하는 함수.\n",
        "    \"\"\"\n",
        "    for _ in range(n):\n",
        "        print(message)\n",
        "\n",
        "    return None # 생략함\n",
        "    # 리턴 값이 없으면 보통 return문을 생략하지만, return None으로 명시하기도 함."
      ],
      "metadata": {
        "id": "mFWE7tQFIngw"
      },
      "execution_count": 9,
      "outputs": []
    },
    {
      "cell_type": "code",
      "source": [
        "repeat_message('안녕하세여' , 3)"
      ],
      "metadata": {
        "colab": {
          "base_uri": "https://localhost:8080/"
        },
        "id": "etFdVqlWJvu2",
        "outputId": "a11f6fe7-0238-43d4-b348-56c2dcd23f69"
      },
      "execution_count": 8,
      "outputs": [
        {
          "output_type": "stream",
          "name": "stdout",
          "text": [
            "안녕하세여\n",
            "안녕하세여\n",
            "안녕하세여\n"
          ]
        }
      ]
    }
  ]
}