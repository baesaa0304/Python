{
  "nbformat": 4,
  "nbformat_minor": 0,
  "metadata": {
    "colab": {
      "provenance": [],
      "authorship_tag": "ABX9TyMc9IDeOVUAPtqWo9F6ncdA",
      "include_colab_link": true
    },
    "kernelspec": {
      "name": "python3",
      "display_name": "Python 3"
    },
    "language_info": {
      "name": "python"
    }
  },
  "cells": [
    {
      "cell_type": "markdown",
      "metadata": {
        "id": "view-in-github",
        "colab_type": "text"
      },
      "source": [
        "<a href=\"https://colab.research.google.com/github/baesunyoung34/Python/blob/main/py13_numpy.ipynb\" target=\"_parent\"><img src=\"https://colab.research.google.com/assets/colab-badge.svg\" alt=\"Open In Colab\"/></a>"
      ]
    },
    {
      "cell_type": "markdown",
      "source": [
        "# 데이터 분석 패키지\n",
        "Google Colab는 데이터 분석과 머신 러닝에 필요한 대부분의 패키지들이 이미 설치가 되어 있음.\n",
        "\n",
        "* NumPy : 다차원 배열(n-dimensional array)을 다루는 패키지. 머신 러닝에서 중요하게 사용됨.\n",
        "* pandas : 시리즈(Series), 데이터 프레임(DataFrame)을 다루는 패키지. 데이터 분석에서 기본으로 사용되는 패키지.\n",
        "* matplotlib : 데이터 시각회(그래프)\n",
        "* seaborn : 데이터 시각화. 통계 작업."
      ],
      "metadata": {
        "id": "vSBn3IzcVbDo"
      }
    },
    {
      "cell_type": "code",
      "execution_count": 1,
      "metadata": {
        "id": "yz4y9ojmVOI6"
      },
      "outputs": [],
      "source": [
        "import numpy as np\n",
        "import pandas as pd\n",
        "import matplotlib as mpl\n",
        "import seaborn as sns"
      ]
    },
    {
      "cell_type": "code",
      "source": [
        "print('NumPy varsion:' , np.__version__)\n",
        "print('pandas version : ' , pd.__version__)\n",
        "print('Matplotlib version:' , mpl.__version__)\n",
        "print('seaborn version: ' , sns.__version__)"
      ],
      "metadata": {
        "colab": {
          "base_uri": "https://localhost:8080/"
        },
        "id": "IUUZAHw9bO9X",
        "outputId": "87fec592-b96d-4952-c40a-3952544f0a56"
      },
      "execution_count": 2,
      "outputs": [
        {
          "output_type": "stream",
          "name": "stdout",
          "text": [
            "NumPy varsion: 1.22.4\n",
            "pandas version :  1.5.3\n",
            "Matplotlib version: 3.7.1\n",
            "seaborn version:  0.12.2\n"
          ]
        }
      ]
    },
    {
      "cell_type": "markdown",
      "source": [
        "#Python 'list' class\n",
        "* 여러개의 값들을 저장할 수 있는 데이터 타입.\n",
        "* 인덱스를 기반으로 값들을 저장, 참조하는 타입.\n",
        "    * indexing : 인덱스를 사용해서 원하는 위치의 값을 참조, 변경.\n",
        "    * slicing: `[start , end)` 이런 인덱스 범위의 값들로 이루어진 부분집합을 잘라내는 방법.\n",
        "    * `list + list` : 2개의 리스트를 이어붙이기(concatenate).\n",
        "    * `list * int` , `int * list` : 리스트의 원소들을 정수만큼 반복해서 복제\n",
        "(replicate)    "
      ],
      "metadata": {
        "id": "nwyClpXocMjk"
      }
    },
    {
      "cell_type": "code",
      "source": [
        "list1 = [1, 2, 3, 4]\n",
        "list2 = [10, 20, 30, 40]"
      ],
      "metadata": {
        "id": "Tgn_oJmJdLqQ"
      },
      "execution_count": 3,
      "outputs": []
    },
    {
      "cell_type": "code",
      "source": [
        "#indexing:\n",
        "print(list1[0]) # list1 첫번째 원소\n",
        "print(list1[3] , list1[-1])  #list1의 마지막 원소"
      ],
      "metadata": {
        "colab": {
          "base_uri": "https://localhost:8080/"
        },
        "id": "o0X0nnWrdQ8W",
        "outputId": "efabf0f8-9237-42e9-8c5a-d6ab52f48610"
      },
      "execution_count": 4,
      "outputs": [
        {
          "output_type": "stream",
          "name": "stdout",
          "text": [
            "1\n",
            "4 4\n"
          ]
        }
      ]
    },
    {
      "cell_type": "code",
      "source": [
        "# slicung\n",
        "print(list1[:3]) # list1에서 앞으로 3개 원소 자르기\n",
        "print(list1[-3:]) #list1에서 뒤에서 3개 원소 자르기"
      ],
      "metadata": {
        "colab": {
          "base_uri": "https://localhost:8080/"
        },
        "id": "FMLWM3zOeF0X",
        "outputId": "5643163d-b638-4839-c1d9-95424f8452bb"
      },
      "execution_count": 6,
      "outputs": [
        {
          "output_type": "stream",
          "name": "stdout",
          "text": [
            "[1, 2, 3]\n",
            "[2, 3, 4]\n"
          ]
        }
      ]
    },
    {
      "cell_type": "code",
      "source": [
        "list1 + list2"
      ],
      "metadata": {
        "colab": {
          "base_uri": "https://localhost:8080/"
        },
        "id": "ErXmnlQLeiKq",
        "outputId": "dbb5d172-68d2-4956-ac7e-60c90099ab7d"
      },
      "execution_count": 12,
      "outputs": [
        {
          "output_type": "execute_result",
          "data": {
            "text/plain": [
              "[1, 2, 3, 4, 10, 20, 30, 40]"
            ]
          },
          "metadata": {},
          "execution_count": 12
        }
      ]
    },
    {
      "cell_type": "code",
      "source": [
        "list1 * 3"
      ],
      "metadata": {
        "colab": {
          "base_uri": "https://localhost:8080/"
        },
        "id": "rfq8hGSmeG1z",
        "outputId": "632d17eb-e799-4569-da90-a19f4028241f"
      },
      "execution_count": 13,
      "outputs": [
        {
          "output_type": "execute_result",
          "data": {
            "text/plain": [
              "[1, 2, 3, 4, 1, 2, 3, 4, 1, 2, 3, 4]"
            ]
          },
          "metadata": {},
          "execution_count": 13
        }
      ]
    },
    {
      "cell_type": "code",
      "source": [
        "# list1 , list2에서 같은 인덱스 위치의 원소들끼리 덧셈\n",
        "[x + y for x , y in zip(list1 , list2)]"
      ],
      "metadata": {
        "colab": {
          "base_uri": "https://localhost:8080/"
        },
        "id": "lPRDbI1AeR42",
        "outputId": "f2bd1649-9a09-4eed-fe49-d4452e01943e"
      },
      "execution_count": 14,
      "outputs": [
        {
          "output_type": "execute_result",
          "data": {
            "text/plain": [
              "[11, 22, 33, 44]"
            ]
          },
          "metadata": {},
          "execution_count": 14
        }
      ]
    },
    {
      "cell_type": "code",
      "source": [
        "#list1의 모든 원소에 3을 곱함.\n",
        "[3 * x for x in list1]"
      ],
      "metadata": {
        "colab": {
          "base_uri": "https://localhost:8080/"
        },
        "id": "b4_UfK3DebQO",
        "outputId": "b752905e-9379-452a-a2d0-e0a07282f3de"
      },
      "execution_count": 15,
      "outputs": [
        {
          "output_type": "execute_result",
          "data": {
            "text/plain": [
              "[3, 6, 9, 12]"
            ]
          },
          "metadata": {},
          "execution_count": 15
        }
      ]
    },
    {
      "cell_type": "markdown",
      "source": [
        "# Numpy\n",
        "* 배열(ndarray)을 쉽고 빠르게 연산(+, -, *, /, //, %)을 수행하는 라이브러리.\n",
        "* Numpy 패키지의 함수 또는 메서드들을 대부분 반복문의 기능을 가지고 있음.\n",
        "* np,ndarry 클래스 : Numpy 패키지에서 기본 타입 클래스. n차원 배열\n",
        "(n-dimensional array)\n",
        "    * `ndarray`는 같은 인덱스(위치)에 있는 원소들끼리 연산을 수행."
      ],
      "metadata": {
        "id": "_snE2UMsdn3B"
      }
    },
    {
      "cell_type": "code",
      "source": [
        "array1 = np.array([1, 2, 3]) # python의 list 객체를 numpy의 ndarray 객체로 변환."
      ],
      "metadata": {
        "id": "MIsSJO-8knyN"
      },
      "execution_count": 17,
      "outputs": []
    },
    {
      "cell_type": "code",
      "source": [
        "type(array1)"
      ],
      "metadata": {
        "colab": {
          "base_uri": "https://localhost:8080/"
        },
        "id": "3JDgxo2ykoxG",
        "outputId": "79b1fa2d-bd17-4bf7-a634-499706472136"
      },
      "execution_count": 18,
      "outputs": [
        {
          "output_type": "execute_result",
          "data": {
            "text/plain": [
              "numpy.ndarray"
            ]
          },
          "metadata": {},
          "execution_count": 18
        }
      ]
    },
    {
      "cell_type": "code",
      "source": [
        "print(array1) # print() 함수는 __str__ 메서드의 리턴값을 출력"
      ],
      "metadata": {
        "colab": {
          "base_uri": "https://localhost:8080/"
        },
        "id": "UGYDR0utkq_b",
        "outputId": "c83e2063-6e1b-48d3-cc65-96c0c78c843d"
      },
      "execution_count": 19,
      "outputs": [
        {
          "output_type": "stream",
          "name": "stdout",
          "text": [
            "[1 2 3]\n"
          ]
        }
      ]
    },
    {
      "cell_type": "code",
      "source": [
        "array1 #expression은 __repr__ 메서드의 리턴값을 출력"
      ],
      "metadata": {
        "colab": {
          "base_uri": "https://localhost:8080/"
        },
        "id": "kVkyjNHXkt_s",
        "outputId": "b1b6773d-193c-4ae4-aa53-8cfecb108619"
      },
      "execution_count": 20,
      "outputs": [
        {
          "output_type": "execute_result",
          "data": {
            "text/plain": [
              "array([1, 2, 3])"
            ]
          },
          "metadata": {},
          "execution_count": 20
        }
      ]
    },
    {
      "cell_type": "code",
      "source": [
        "array2 = np.array([4, 5, 6])"
      ],
      "metadata": {
        "id": "-c6l1B49lQ8Q"
      },
      "execution_count": 21,
      "outputs": []
    },
    {
      "cell_type": "code",
      "source": [
        "print(array2)"
      ],
      "metadata": {
        "colab": {
          "base_uri": "https://localhost:8080/"
        },
        "id": "KmjTwwNdlXAo",
        "outputId": "5e2e2156-89e3-4ebd-d57b-3ea7bfc16f76"
      },
      "execution_count": 22,
      "outputs": [
        {
          "output_type": "stream",
          "name": "stdout",
          "text": [
            "[4 5 6]\n"
          ]
        }
      ]
    },
    {
      "cell_type": "code",
      "source": [
        "#ndarray의 사칙연산 _ 같은 인덱스의 원소들끼리(element-wise) 연산 수행\n",
        "print(array1 + array2)\n",
        "print(array1 - array2)\n",
        "print(array1 * array2)\n",
        "print(array1 / array2)"
      ],
      "metadata": {
        "colab": {
          "base_uri": "https://localhost:8080/"
        },
        "id": "wZtpqsTjlat2",
        "outputId": "aa70427a-2a0d-4ec3-8fe1-4ff65651803d"
      },
      "execution_count": 23,
      "outputs": [
        {
          "output_type": "stream",
          "name": "stdout",
          "text": [
            "[5 7 9]\n",
            "[-3 -3 -3]\n",
            "[ 4 10 18]\n",
            "[0.25 0.4  0.5 ]\n"
          ]
        }
      ]
    },
    {
      "cell_type": "markdown",
      "source": [
        "## ndaraay 클래스의 속성들"
      ],
      "metadata": {
        "id": "N6pRUkBxkUzy"
      }
    },
    {
      "cell_type": "code",
      "source": [
        "print(array1)\n",
        "print('ndim:' , array1.ndim) # 차원(dimesion). 배열의 축(axis)의 개수.\n",
        "print('size:' , array1.size) # 배열의 크기. 원소 개수.\n",
        "print('shape' , array1.shape) # 배열의 모양. 각 차원에서의 원소 개수.\n",
        "print('dtype' , array1.dtype) # 배열 원소의 데이터 타입."
      ],
      "metadata": {
        "colab": {
          "base_uri": "https://localhost:8080/"
        },
        "id": "HSSVCPzOmgln",
        "outputId": "ef78cb16-3ebd-4041-d268-3fe1189fb6b7"
      },
      "execution_count": 27,
      "outputs": [
        {
          "output_type": "stream",
          "name": "stdout",
          "text": [
            "[1 2 3]\n",
            "ndim: 1\n",
            "size: 3\n",
            "shape (3,)\n",
            "dtype int64\n"
          ]
        }
      ]
    },
    {
      "cell_type": "markdown",
      "source": [
        "`ndarray`는 한 가지 타입의 데이터들만 저장할 수 있는 데이터 타입 = `list`와 다른 점."
      ],
      "metadata": {
        "id": "l08CkQZdoO-s"
      }
    },
    {
      "cell_type": "markdown",
      "source": [
        "## 2차원 배열"
      ],
      "metadata": {
        "id": "13bMnX38o12p"
      }
    },
    {
      "cell_type": "code",
      "source": [
        "array_2d = np.array([\n",
        "    [1, 2, 3, 4],\n",
        "    [5, 6, 7, 8],\n",
        "    [9, 10, 11, 12]\n",
        "])"
      ],
      "metadata": {
        "id": "hU6_QFN9oOth"
      },
      "execution_count": 29,
      "outputs": []
    },
    {
      "cell_type": "code",
      "source": [
        "type(array_2d)"
      ],
      "metadata": {
        "colab": {
          "base_uri": "https://localhost:8080/"
        },
        "id": "l9lCwAWGpYe6",
        "outputId": "5a3de34d-ef37-4396-c9e0-3890289c4a7c"
      },
      "execution_count": 34,
      "outputs": [
        {
          "output_type": "execute_result",
          "data": {
            "text/plain": [
              "numpy.ndarray"
            ]
          },
          "metadata": {},
          "execution_count": 34
        }
      ]
    },
    {
      "cell_type": "code",
      "source": [
        "print(array_2d)"
      ],
      "metadata": {
        "colab": {
          "base_uri": "https://localhost:8080/"
        },
        "id": "pVKw29kZpgLP",
        "outputId": "65790a2f-2726-482e-bb7d-8f778141f6d0"
      },
      "execution_count": 35,
      "outputs": [
        {
          "output_type": "stream",
          "name": "stdout",
          "text": [
            "[[ 1  2  3  4]\n",
            " [ 5  6  7  8]\n",
            " [ 9 10 11 12]]\n"
          ]
        }
      ]
    },
    {
      "cell_type": "code",
      "source": [
        "array_2d"
      ],
      "metadata": {
        "colab": {
          "base_uri": "https://localhost:8080/"
        },
        "id": "yqjYghCxptoo",
        "outputId": "638faa1c-29b7-4299-cea9-7c0f7b51a647"
      },
      "execution_count": 36,
      "outputs": [
        {
          "output_type": "execute_result",
          "data": {
            "text/plain": [
              "array([[ 1,  2,  3,  4],\n",
              "       [ 5,  6,  7,  8],\n",
              "       [ 9, 10, 11, 12]])"
            ]
          },
          "metadata": {},
          "execution_count": 36
        }
      ]
    },
    {
      "cell_type": "code",
      "source": [
        "print('ndim:' , array_2d.ndim) # 차원\n",
        "print('size:' , array_2d.size) # 크기\n",
        "print('shape:' , array_2d.shape) # 모양\n",
        "print('dtype:' , array_2d.dtype) # 데이터"
      ],
      "metadata": {
        "colab": {
          "base_uri": "https://localhost:8080/"
        },
        "id": "Ri6HFBOeqGAN",
        "outputId": "9e82024d-eeb2-4dc6-802a-0bc7f04af9a0"
      },
      "execution_count": 37,
      "outputs": [
        {
          "output_type": "stream",
          "name": "stdout",
          "text": [
            "ndim: 2\n",
            "size: 12\n",
            "shape: (3, 4)\n",
            "dtype: int64\n"
          ]
        }
      ]
    },
    {
      "cell_type": "markdown",
      "source": [
        "### 2차원 `ndarray`의 인덱스 사용 방법:\n",
        "* `array[i][j]` - python list와 같은 사용 방법.\n",
        "* `array[i, j]` - ndarray에서만 사용 가능."
      ],
      "metadata": {
        "id": "T9JeRzcXvEsY"
      }
    },
    {
      "cell_type": "code",
      "source": [
        "array_2d[0, 0] # array_2d[0][0]"
      ],
      "metadata": {
        "colab": {
          "base_uri": "https://localhost:8080/"
        },
        "id": "Nvxl45Cov4qF",
        "outputId": "91a6c823-4e0e-4e55-b876-12faab988b1e"
      },
      "execution_count": 38,
      "outputs": [
        {
          "output_type": "execute_result",
          "data": {
            "text/plain": [
              "1"
            ]
          },
          "metadata": {},
          "execution_count": 38
        }
      ]
    },
    {
      "cell_type": "code",
      "source": [
        "array_2d[1, 2]"
      ],
      "metadata": {
        "colab": {
          "base_uri": "https://localhost:8080/"
        },
        "id": "8ChIY1QUwCMo",
        "outputId": "5e029a82-0407-4c42-a37e-7676b7673362"
      },
      "execution_count": 39,
      "outputs": [
        {
          "output_type": "execute_result",
          "data": {
            "text/plain": [
              "7"
            ]
          },
          "metadata": {},
          "execution_count": 39
        }
      ]
    },
    {
      "cell_type": "markdown",
      "source": [
        "##ndarray 인덱스"
      ],
      "metadata": {
        "id": "CW740bs9wgks"
      }
    },
    {
      "cell_type": "code",
      "source": [
        "# [0, 100) 범위의 정수 난수 10개를 갖는 ndarray 객체를 생성:\n",
        "array = np.random.randint(0, 100, size=10)\n",
        "print(array)"
      ],
      "metadata": {
        "colab": {
          "base_uri": "https://localhost:8080/"
        },
        "id": "ywOq6ZcGwi-D",
        "outputId": "7490bfb3-eb4b-48ac-91cf-588c93fcadb4"
      },
      "execution_count": 41,
      "outputs": [
        {
          "output_type": "stream",
          "name": "stdout",
          "text": [
            "[45 68 43 76 56 21 91  1 42 69]\n"
          ]
        }
      ]
    },
    {
      "cell_type": "code",
      "source": [
        "#indexing:\n",
        "print(array[0]) # 첫번째 원소\n",
        "print(array[-1]) # 마지막 원소"
      ],
      "metadata": {
        "colab": {
          "base_uri": "https://localhost:8080/"
        },
        "id": "PE6ZMIVWxrsS",
        "outputId": "4cf6e29b-3478-463f-c001-c6daac0a35e0"
      },
      "execution_count": 42,
      "outputs": [
        {
          "output_type": "stream",
          "name": "stdout",
          "text": [
            "45\n",
            "69\n"
          ]
        }
      ]
    },
    {
      "cell_type": "code",
      "source": [
        "#slicing:\n",
        "print(array[:3]) # 첫 3개 원소 자르기\n",
        "print(array[-3:])"
      ],
      "metadata": {
        "colab": {
          "base_uri": "https://localhost:8080/"
        },
        "id": "ao74bdlex4hW",
        "outputId": "074408f1-bac0-483c-87d2-e47939d25f91"
      },
      "execution_count": 44,
      "outputs": [
        {
          "output_type": "stream",
          "name": "stdout",
          "text": [
            "[45 68 43]\n",
            "[ 1 42 69]\n"
          ]
        }
      ]
    },
    {
      "cell_type": "code",
      "source": [
        "print(array[0]) # indexing -> 아이템(값)\n",
        "print(array[0:1]) # slicing -> 배열(ndarray)"
      ],
      "metadata": {
        "colab": {
          "base_uri": "https://localhost:8080/"
        },
        "id": "fsHE34zHyW1L",
        "outputId": "5bd146c4-4257-4e09-8c2e-be618c5e1d30"
      },
      "execution_count": 46,
      "outputs": [
        {
          "output_type": "stream",
          "name": "stdout",
          "text": [
            "45\n",
            "[45]\n"
          ]
        }
      ]
    },
    {
      "cell_type": "markdown",
      "source": [
        "### fancy indexing\n",
        "*  배열과 비슷한 객체(ndarray, list, tuple, set, ...)를 사용해서 원하는 원소들을 참조하는 방법.\n",
        "* fancy indexing의 결과는 ndarray."
      ],
      "metadata": {
        "id": "wBdu-cu9y7Cd"
      }
    },
    {
      "cell_type": "code",
      "source": [
        "print(array)\n",
        "print(array[0]) #indexing\n",
        "print(array[[0, 2, 4]]) # fancy indexing - 인덱스 0, 2, 4 원소들 찾기\n",
        "print(array[[0]]) # fancy indexing -> 결과는 배열!\n",
        "# [0] , [[0]] 차이점은 아이템이나 배열이나의 차이"
      ],
      "metadata": {
        "colab": {
          "base_uri": "https://localhost:8080/"
        },
        "id": "YR3rsrQNzIpS",
        "outputId": "b9d13698-a0ab-4557-d68d-419e7c449fec"
      },
      "execution_count": 51,
      "outputs": [
        {
          "output_type": "stream",
          "name": "stdout",
          "text": [
            "[45 68 43 76 56 21 91  1 42 69]\n",
            "45\n",
            "[45 43 56]\n",
            "[45]\n"
          ]
        }
      ]
    },
    {
      "cell_type": "markdown",
      "source": [
        "### boolean indexing\n",
        "* 논리값(True/ False)들의 배열 (리스트, 튜플,...)을 사용한 fancy indexing 방법.\n",
        "* 배열에서 조건을 만족하는 원소들로 이루어진 부분집합(ndarray)를 만드는 방법"
      ],
      "metadata": {
        "id": "GTMkaUgy1HQD"
      }
    },
    {
      "cell_type": "code",
      "source": [
        "print(array)\n",
        "print(array[[True, False, True, False, True, False, True, False, True, False]])"
      ],
      "metadata": {
        "colab": {
          "base_uri": "https://localhost:8080/"
        },
        "id": "Ye4S0xfBysJM",
        "outputId": "6f6cf2fe-e079-4d0e-aed6-b5bb738f9854"
      },
      "execution_count": 55,
      "outputs": [
        {
          "output_type": "stream",
          "name": "stdout",
          "text": [
            "[45 68 43 76 56 21 91  1 42 69]\n",
            "[45 43 56 91 42]\n"
          ]
        }
      ]
    },
    {
      "cell_type": "code",
      "source": [
        "# 배열 array의 원소들 중 홀수들만 찾기.\n",
        "# array % 2 == 1\n",
        "print(array % 2)\n",
        "print(array % 2 == 1)\n",
        "print(array[array % 2 == 1])"
      ],
      "metadata": {
        "colab": {
          "base_uri": "https://localhost:8080/"
        },
        "id": "qmbTMy801kf_",
        "outputId": "559f1351-e187-457d-e557-906a74a3cb95"
      },
      "execution_count": 59,
      "outputs": [
        {
          "output_type": "stream",
          "name": "stdout",
          "text": [
            "[1 0 1 0 0 1 1 1 0 1]\n",
            "[ True False  True False False  True  True  True False  True]\n",
            "[45 43 21 91  1 69]\n"
          ]
        }
      ]
    },
    {
      "cell_type": "code",
      "source": [
        "# 배열 array 원소들 중에서 50 이상인 숫자들의 배열을 찾기:\n",
        "print(array[array >= 50])"
      ],
      "metadata": {
        "colab": {
          "base_uri": "https://localhost:8080/"
        },
        "id": "rTFRCfVL2l6N",
        "outputId": "598229c0-99bd-4c72-a36e-366d169c1824"
      },
      "execution_count": 60,
      "outputs": [
        {
          "output_type": "stream",
          "name": "stdout",
          "text": [
            "[68 76 56 91 69]\n"
          ]
        }
      ]
    },
    {
      "cell_type": "markdown",
      "source": [
        "## NumPy의 통계 함수, 메서드\n",
        "* np.fuction(ndarray) 함수\n",
        "* np.ndarray.method() 메서드"
      ],
      "metadata": {
        "id": "nmG2rstO3mxV"
      }
    },
    {
      "cell_type": "code",
      "source": [
        "array = np.array([1, 2, 3, 4, 5])\n",
        "print(array)"
      ],
      "metadata": {
        "colab": {
          "base_uri": "https://localhost:8080/"
        },
        "id": "G2YYcvYm4BBV",
        "outputId": "9fd661ea-2f67-485e-90a8-e6b88bfd928f"
      },
      "execution_count": 61,
      "outputs": [
        {
          "output_type": "stream",
          "name": "stdout",
          "text": [
            "[1 2 3 4 5]\n"
          ]
        }
      ]
    },
    {
      "cell_type": "code",
      "source": [
        "# 합계:\n",
        "print(np.sum(array)) # 함수\n",
        "print(array.sum()) # 메서드"
      ],
      "metadata": {
        "colab": {
          "base_uri": "https://localhost:8080/"
        },
        "id": "HFGzs-AS4IU_",
        "outputId": "995c71f6-4904-4f28-ca11-7bb6fbc68dc1"
      },
      "execution_count": 65,
      "outputs": [
        {
          "output_type": "stream",
          "name": "stdout",
          "text": [
            "15\n",
            "15\n"
          ]
        }
      ]
    },
    {
      "cell_type": "code",
      "source": [
        "# 평균\n",
        "print(np.mean(array)) # 함수\n",
        "print(array.mean())"
      ],
      "metadata": {
        "colab": {
          "base_uri": "https://localhost:8080/"
        },
        "id": "Bxdv-uAQ5bnE",
        "outputId": "afac228c-e0ab-4654-fe9f-cf285dee2157"
      },
      "execution_count": 66,
      "outputs": [
        {
          "output_type": "stream",
          "name": "stdout",
          "text": [
            "3.0\n",
            "3.0\n"
          ]
        }
      ]
    }
  ]
}